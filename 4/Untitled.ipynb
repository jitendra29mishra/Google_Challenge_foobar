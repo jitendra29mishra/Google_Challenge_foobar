{
 "cells": [
  {
   "cell_type": "code",
   "execution_count": 2,
   "metadata": {},
   "outputs": [],
   "source": [
    "from itertools import combinations"
   ]
  },
  {
   "cell_type": "code",
   "execution_count": 1,
   "metadata": {},
   "outputs": [],
   "source": [
    "bl = [1, 7, 3, 21, 13, 19]"
   ]
  },
  {
   "cell_type": "code",
   "execution_count": 4,
   "metadata": {},
   "outputs": [],
   "source": [
    "comb = list(combinations(bl, 2))"
   ]
  },
  {
   "cell_type": "code",
   "execution_count": 8,
   "metadata": {},
   "outputs": [],
   "source": [
    "comb2 = list(combinations(comb, 3))"
   ]
  },
  {
   "cell_type": "code",
   "execution_count": 12,
   "metadata": {},
   "outputs": [],
   "source": [
    "def check(x, y):\n",
    "    if (x+y)%2 == 1:\n",
    "        return 1\n",
    "    if x == y:\n",
    "        return 0\n",
    "    mem = [x]\n",
    "    append = mem.append\n",
    "    while True:\n",
    "        if x < y:\n",
    "            x, y = 2*x, y - x\n",
    "        elif y < x:\n",
    "            x, y = 2*y, x - y\n",
    "        else:\n",
    "            del mem\n",
    "            return 0\n",
    "        if x in mem:\n",
    "            del mem\n",
    "            return 1\n",
    "        append(x)"
   ]
  },
  {
   "cell_type": "code",
   "execution_count": null,
   "metadata": {},
   "outputs": [],
   "source": [
    "for i in range(100001):\n",
    "    if i%4 != 0:\n",
    "        for k in range(1, i):\n",
    "            if not check(k, i - k) and k != (i-k):\n",
    "                print('{:3} ({}, {})=> {}'.format(i, k, i - k, check(k, i - k)))"
   ]
  },
  {
   "cell_type": "code",
   "execution_count": 10,
   "metadata": {},
   "outputs": [],
   "source": [
    "def choose(l):\n",
    "    a = [l[0][0], l[0][1]]\n",
    "    for i in l[1:]:\n",
    "        if i[0] in a:\n",
    "            return False\n",
    "        else:\n",
    "            a.append(i[0])\n",
    "        if i[1] in a:\n",
    "            return False\n",
    "        else:\n",
    "            a.append(i[1])\n",
    "    return True"
   ]
  },
  {
   "cell_type": "code",
   "execution_count": 11,
   "metadata": {},
   "outputs": [
    {
     "name": "stdout",
     "output_type": "stream",
     "text": [
      "((1, 7), (3, 21), (13, 19))\n",
      "((1, 7), (3, 13), (21, 19))\n",
      "((1, 7), (3, 19), (21, 13))\n",
      "((1, 3), (7, 21), (13, 19))\n",
      "((1, 3), (7, 13), (21, 19))\n",
      "((1, 3), (7, 19), (21, 13))\n",
      "((1, 21), (7, 3), (13, 19))\n",
      "((1, 21), (7, 13), (3, 19))\n",
      "((1, 21), (7, 19), (3, 13))\n",
      "((1, 13), (7, 3), (21, 19))\n",
      "((1, 13), (7, 21), (3, 19))\n",
      "((1, 13), (7, 19), (3, 21))\n",
      "((1, 19), (7, 3), (21, 13))\n",
      "((1, 19), (7, 21), (3, 13))\n",
      "((1, 19), (7, 13), (3, 21))\n"
     ]
    }
   ],
   "source": [
    "for i in comb2:\n",
    "    if choose(i):\n",
    "        print(i)"
   ]
  },
  {
   "cell_type": "code",
   "execution_count": null,
   "metadata": {},
   "outputs": [],
   "source": []
  }
 ],
 "metadata": {
  "kernelspec": {
   "display_name": "Python 3",
   "language": "python",
   "name": "python3"
  },
  "language_info": {
   "codemirror_mode": {
    "name": "ipython",
    "version": 3
   },
   "file_extension": ".py",
   "mimetype": "text/x-python",
   "name": "python",
   "nbconvert_exporter": "python",
   "pygments_lexer": "ipython3",
   "version": "3.6.6"
  }
 },
 "nbformat": 4,
 "nbformat_minor": 2
}
